{
  "nbformat": 4,
  "nbformat_minor": 0,
  "metadata": {
    "colab": {
      "provenance": [],
      "authorship_tag": "ABX9TyMcsrSaSyTfvz7sO6suCRpM",
      "include_colab_link": true
    },
    "kernelspec": {
      "name": "python3",
      "display_name": "Python 3"
    },
    "language_info": {
      "name": "python"
    }
  },
  "cells": [
    {
      "cell_type": "markdown",
      "metadata": {
        "id": "view-in-github",
        "colab_type": "text"
      },
      "source": [
        "<a href=\"https://colab.research.google.com/github/JuanCaG8a/Repositorio-Metodos-1/blob/main/AlgebraLineal.ipynb\" target=\"_parent\"><img src=\"https://colab.research.google.com/assets/colab-badge.svg\" alt=\"Open In Colab\"/></a>"
      ]
    },
    {
      "cell_type": "code",
      "source": [
        "import numpy as np"
      ],
      "metadata": {
        "id": "39asv9yafW-F"
      },
      "execution_count": 1,
      "outputs": []
    },
    {
      "cell_type": "markdown",
      "source": [
        "1) Muestre el n-esimos+1 termino de las siguientes relaciones recursivas:$$x_{n+1} = 4x_n−x^{2}_n,    x_0= 4sin^2θ$$, conduce a: $$x_{n+1}= 4sin^2(2^{n+1}θ),    θ ∈ [0,π/2].$$ $$x_{n+1}= 4x_n−4x^2_n,    x_0=sin^{2}θ $$, conduce a: $$ x_{n+1}=sin^2(2^{n+1}θ),    θ∈[0,π/2]$$"
      ],
      "metadata": {
        "id": "zAStrogQUQG-"
      }
    },
    {
      "cell_type": "markdown",
      "source": [],
      "metadata": {
        "id": "YL-6-b-hiJ7Q"
      }
    },
    {
      "cell_type": "markdown",
      "source": [
        "3) En Python, implemente una clase para solucionar sistemas lineales. El constructor de clase debe recibir la matriz y el vector independiente.  El primer metodo de clase resuelve el sistema usando el metodo de Jacobi, y el segundo metodo resuelve el sistema usando el metodo de Gaus-Seidel.  En la pantalla debe aparecer el numero de iteraciones necesarias para resolver el problema"
      ],
      "metadata": {
        "id": "nzmjbG7CUQJt"
      }
    },
    {
      "cell_type": "code",
      "source": [
        "class SistemasLineales:\n",
        "    def __init__(self, A, b, tol=1e-6, max_iter=1000):\n",
        "        self.A = np.array(A, dtype=float)\n",
        "        self.b = np.array(b, dtype=float)\n",
        "        self.tol = tol\n",
        "        self.max_iter = max_iter\n",
        "\n",
        "    def metodo_jacobi(self):\n",
        "        x = np.zeros_like(self.b)\n",
        "        D = np.diag(self.A)\n",
        "        R = self.A - np.diagflat(D)\n",
        "\n",
        "        iteraciones = 0\n",
        "        for i in range(self.max_iter):\n",
        "            x_new = (self.b - np.dot(R, x)) / D\n",
        "            if np.linalg.norm(x_new - x, ord=np.inf) < self.tol:\n",
        "                break\n",
        "            x = x_new\n",
        "            iteraciones += 1\n",
        "\n",
        "        print(f\"Jacobi: Sistema resuelto en {iteraciones} iteraciones.\")\n",
        "        return x\n",
        "\n",
        "    def metodo_gauss_seidel(self):\n",
        "        x = np.zeros_like(self.b)\n",
        "        iteraciones = 0\n",
        "\n",
        "        for i in range(self.max_iter):\n",
        "            x_new = np.copy(x)\n",
        "            for j in range(len(self.b)):\n",
        "                suma = sum(self.A[j][k] * x_new[k] if k < j else self.A[j][k] * x[k] for k in range(len(self.b)))\n",
        "                x_new[j] = (self.b[j] - suma + self.A[j][j] * x[j]) / self.A[j][j]\n",
        "\n",
        "            if np.linalg.norm(x_new - x, ord=np.inf) < self.tol:\n",
        "                break\n",
        "            x = x_new\n",
        "            iteraciones += 1\n",
        "\n",
        "        print(f\"Gauss-Seidel: Sistema resuelto en {iteraciones} iteraciones.\")\n",
        "        return x\n",
        "\n",
        "# Ejemplo de uso\n",
        "A = [[4, -1, 0, 0],\n",
        "     [-1, 4, -1, 0],\n",
        "     [0, -1, 4, -1],\n",
        "     [0, 0, -1, 3]]\n",
        "\n",
        "b = [15, 10, 10, 10]\n",
        "\n",
        "sistema = SistemasLineales(A, b)\n",
        "\n",
        "# Solucion usando Jacobi\n",
        "solucion_jacobi = sistema.metodo_jacobi()\n",
        "print(\"Solución usando Jacobi:\", solucion_jacobi)\n",
        "\n",
        "# Solucion usando Gauss-Seidel\n",
        "solucion_gauss_seidel = sistema.metodo_gauss_seidel()\n",
        "print(\"Solución usando Gauss-Seidel:\", solucion_gauss_seidel)\n"
      ],
      "metadata": {
        "colab": {
          "base_uri": "https://localhost:8080/"
        },
        "id": "t57l5w8mUPxQ",
        "outputId": "e16c7cd5-1cbd-4f49-b6a3-f7ba2543ac10"
      },
      "execution_count": 8,
      "outputs": [
        {
          "output_type": "stream",
          "name": "stdout",
          "text": [
            "Jacobi: Sistema resuelto en 18 iteraciones.\n",
            "Solución usando Jacobi: [4.99999939 4.99999899 4.99999886 4.99999912]\n",
            "Gauss-Seidel: Sistema resuelto en 10 iteraciones.\n",
            "Solución usando Gauss-Seidel: [4.99999918 4.99999941 4.99999972 4.99999991]\n"
          ]
        }
      ]
    },
    {
      "cell_type": "markdown",
      "source": [
        "5) Muestre con detalle que la sustitucion hacia adelante se expresa como:\n",
        "$$x_i = \\frac{b_i-\\sum_{j=0}^{i-1}A_{ij}x_j}{A_{ii}}$$"
      ],
      "metadata": {
        "id": "ZTQvOWwRUQM3"
      }
    },
    {
      "cell_type": "markdown",
      "source": [],
      "metadata": {
        "id": "h9IzISRLdhh6"
      }
    },
    {
      "cell_type": "markdown",
      "source": [
        "8)   Implemente la descomposicion LU para factorizar la siguiente matriz A = LU.\n",
        "\n",
        "    4    -2    1  \t  1    0    0      4    -2     1\n",
        "A =     20   -7   12   =    5    1    0      0     3     7   \n",
        "    -8   13   17       -2    3    1      0     0    -2  "
      ],
      "metadata": {
        "id": "1hiMt_auUQPe"
      }
    },
    {
      "cell_type": "code",
      "source": [
        "def LU(A):\n",
        "    n = len(A)\n",
        "    L = np.eye(n)\n",
        "    U = np.zeros((n, n))\n",
        "\n",
        "    for i in range(n):\n",
        "        for k in range(i, n):\n",
        "            U[i, k] = A[i, k] - sum(L[i, j] * U[j, k] for j in range(i))\n",
        "\n",
        "        for k in range(i + 1, n):\n",
        "            L[k, i] = (A[k, i] - sum(L[k, j] * U[j, i] for j in range(i))) / U[i, i]\n",
        "\n",
        "    return L, U\n",
        "\n",
        "A = np.array([[4, -2, 1],\n",
        "              [20, -7, 12],\n",
        "              [-8, 13, 17]], dtype=float)\n",
        "\n",
        "\n",
        "L, U = LU(A)\n",
        "\n",
        "\n",
        "print(\"Matriz L:\")\n",
        "print(L)\n",
        "print(\"Matriz U:\")\n",
        "print(U)\n"
      ],
      "metadata": {
        "colab": {
          "base_uri": "https://localhost:8080/"
        },
        "id": "osHATnzkUP2z",
        "outputId": "7c99b170-2ff4-4550-9b3c-23a86414b2a4"
      },
      "execution_count": 9,
      "outputs": [
        {
          "output_type": "stream",
          "name": "stdout",
          "text": [
            "Matriz L:\n",
            "[[ 1.  0.  0.]\n",
            " [ 5.  1.  0.]\n",
            " [-2.  3.  1.]]\n",
            "Matriz U:\n",
            "[[ 4. -2.  1.]\n",
            " [ 0.  3.  7.]\n",
            " [ 0.  0. -2.]]\n"
          ]
        }
      ]
    },
    {
      "cell_type": "markdown",
      "source": [
        "12) Usando los m etodos de Newton-Raphson y descenso del gradiente, encuentre la solucion de los siguientes sistemas de ecuaciones no lineales:\n",
        "$$ ln(x^2_1+x^2_2)−sin(x_1x_2)   =ln(2) +ln(π)$$  $$e^{x_1−x_2}+cos(x_1x_2)   =   0 $$\n",
        "Use $$x^{(0)} = (2,2)$$\n",
        "$$6x_1-2cos(x_2x_3)-1 = 0, $$\n",
        "$$9x_2 + \\sqrt{x_1^2 + sin(x_3) + 1.06 } + 0.9 = 0,  $$\n",
        "$$ 60x_3 + 3e^{-x_1x_2} + 10π - 3 = 0. $$\n",
        "Use $$x^{(0)} = (0,0,0)$$\n"
      ],
      "metadata": {
        "id": "pFbnCShTVM1o"
      }
    },
    {
      "cell_type": "code",
      "source": [
        "def sistema1(vars):\n",
        "    x1, x2 = vars\n",
        "    f1 = np.log(x1**2 + x2**2) - np.sin(x1 * x2) - np.log(2) - np.log(np.pi)\n",
        "    f2 = np.exp(x1 - x2) + np.cos(x1 * x2)\n",
        "    return [f1, f2]\n",
        "\n",
        "def sistema2(vars):\n",
        "    x1, x2, x3 = vars\n",
        "    f1 = 6*x1 - 2*np.cos(x2 * x3) - 1\n",
        "    f2 = 9*x2 + np.sqrt(x1**2 + np.sin(x3) + 1.06) + 0.9\n",
        "    f3 = 60*x3 + 3*np.exp(-x1 * x2) + 10*np.pi - 3\n",
        "    return [f1, f2, f3]\n",
        "\n",
        "def jacobiano_sistema1(x1, x2):\n",
        "    j11 = (2*x1) / (x1**2 + x2**2) - x2 * np.cos(x1 * x2)\n",
        "    j12 = (2*x2) / (x1**2 + x2**2) - x1 * np.cos(x1 * x2)\n",
        "    j21 = np.exp(x1 - x2) - x2 * np.sin(x1 * x2)\n",
        "    j22 = -np.exp(x1 - x2) - x1 * np.sin(x1 * x2)\n",
        "\n",
        "    return np.array([[j11, j12], [j21, j22]])\n",
        "\n",
        "def newton_raphson_sistema1(x0, tol=1e-6, max_iter=100):\n",
        "    x = np.array(x0)\n",
        "    for i in range(max_iter):\n",
        "        f = np.array(sistema1(x))\n",
        "        J = jacobiano_sistema1(x[0], x[1])\n",
        "        delta_x = np.linalg.solve(J, -f)\n",
        "        x = x + delta_x\n",
        "        if np.linalg.norm(delta_x) < tol:\n",
        "            break\n",
        "    return x\n",
        "\n",
        "\n",
        "def jacobiano_sistema2(x1, x2, x3):\n",
        "    j11 = 6\n",
        "    j12 = 2*x3 * np.sin(x2 * x3)\n",
        "    j13 = 2*x2 * np.sin(x2 * x3)\n",
        "\n",
        "    j21 = x1 / np.sqrt(x1**2 + np.sin(x3) + 1.06)\n",
        "    j22 = 9\n",
        "    j23 = (np.cos(x3) / (2 * np.sqrt(x1**2 + np.sin(x3) + 1.06)))\n",
        "\n",
        "    j31 = -3 * x2 * np.exp(-x1 * x2)\n",
        "    j32 = -3 * x1 * np.exp(-x1 * x2)\n",
        "    j33 = 60\n",
        "\n",
        "    return np.array([[j11, j12, j13], [j21, j22, j23], [j31, j32, j33]])\n",
        "\n",
        "def newton_raphson_sistema2(x0, tol=1e-6, max_iter=100):\n",
        "    x = np.array(x0)\n",
        "    for i in range(max_iter):\n",
        "        f = np.array(sistema2(x))\n",
        "        J = jacobiano_sistema2(x[0], x[1], x[2])\n",
        "        delta_x = np.linalg.solve(J, -f)\n",
        "        x = x + delta_x\n",
        "        if np.linalg.norm(delta_x) < tol:\n",
        "            break\n",
        "    return x\n",
        "\n",
        "x0_sistema1 = [2, 2]\n",
        "x0_sistema2 = [0, 0, 0]\n",
        "\n",
        "\n",
        "solution_newton_sistema1 = newton_raphson_sistema1(x0_sistema1)\n",
        "solution_newton_sistema2 = newton_raphson_sistema2(x0_sistema2)\n",
        "\n",
        "solution_newton_sistema1, solution_newton_sistema2\n"
      ],
      "metadata": {
        "colab": {
          "base_uri": "https://localhost:8080/"
        },
        "id": "eSSHxC6IUP5W",
        "outputId": "7b6d92ac-6b62-4eec-9678-b75bef1cd272"
      },
      "execution_count": 5,
      "outputs": [
        {
          "output_type": "execute_result",
          "data": {
            "text/plain": [
              "(array([1.77245385, 1.77245385]),\n",
              " array([ 0.49814468, -0.1996059 , -0.52882598]))"
            ]
          },
          "metadata": {},
          "execution_count": 5
        }
      ]
    },
    {
      "cell_type": "markdown",
      "source": [
        "14)"
      ],
      "metadata": {
        "id": "egxX_ElgVOWO"
      }
    },
    {
      "cell_type": "code",
      "source": [],
      "metadata": {
        "id": "xzVEMgODUP76"
      },
      "execution_count": null,
      "outputs": []
    },
    {
      "cell_type": "code",
      "source": [],
      "metadata": {
        "id": "pPPbGsWjUP-Q"
      },
      "execution_count": null,
      "outputs": []
    }
  ]
}